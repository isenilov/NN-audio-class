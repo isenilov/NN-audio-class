{
 "cells": [
  {
   "cell_type": "markdown",
   "metadata": {},
   "source": [
    "# Neural Networks course project: #\n",
    "# Google AudioSet sound classification with Deep Learning #\n",
    "### Sapienza University of Rome ###\n",
    "\n",
    "### by Ivan Senilov (1787618) ###\n",
    "\n",
    "## 1. Introduction ##\n",
    "\n",
    "This work represents a practical part of the Neural Networks course taught at Sapienza University.\n",
    "\n",
    "The goal of this coursework is to:\n",
    "\n",
    "1. Explore the [Google AudioSet](https://research.google.com/audioset/index.html)\n",
    "2. Build the classification model based on Neural Network(s)\n",
    "3. Validate the model\n",
    "4. Evaluate and discuss the results\n",
    "\n",
    "## 2. Audio classification problem ##\n",
    "\n",
    "### 2.1 Audio features ###\n",
    "\n",
    "Feature extraction is signal processing task of computing the numerical representation from the signal that can be used to characterize the audio segment \\cite{prasad2007speech}.\n",
    "\n",
    "Most of the audio features fall into three categories \\cite{1221332}:\n",
    "\n",
    "1. **Energy-based**. For example, 4Hz modulation energy used for speech/music classification \\cite{scheirer1997construction}.\n",
    "2. **Spectrum-based**. Examples of the category are roll-off of the spectrum, spectral flux, Mel Frequency Cepstral Coefficents (MFCC) \\cite{scheirer1997construction} and linear spectrum pair, band periodicity \\cite{lu2001content}.\n",
    "3. **Perceptual based**, like pitch (estimated to discriminate songs and speech over music \\cite{zhang1998content}).\n",
    "\n",
    "The most developed areas of machine learning for audio classification include speech \\cite{shrawankar2013techniques,lee2003optimizing,ghahremani2014pitch} and music \\cite{logan2000mel,wang2006shazam,eronen2001comparison} recognition where  MFCCs are widely used as features. MFCCs were introduced in 1980 \\cite{davis1980comparison} and showed better performance in terms of recognition of spoken words. However, when it comes to other types of sound recognition, the selection of feature extraction method becomes less obvious, even though MFCCs are used in, for example, application to environmental sound classification \\cite{chu2009environmental,cotton2011spectral}.\n",
    "\n",
    "<img src=\"figs/feat_extr.png\">\n",
    "\n",
    "Extraction pipelines for MPEG-7 (left) and MFCC (right) features (reprinted from \\cite{1221332})\n",
    "\n",
    "Typical approach of feature extraction process is to split the audio signal into small chunks of several $ms$ (exact size is domain-dependent) and feed it into computational function of one of many frameworks for extraction of features from audio (see Figure \\ref{fig:feature_extraction} for examples of extraction pipelines for MPEG-7 \\cite{casey2001mpeg} and MFCC features). The most popular frameworks include YAAFE \\cite{mathieu2010yaafe} and openSMILE \\cite{eyben2010opensmile,eyben2013recent}, which allows to extract following feature types:\n",
    "\\begin{itemize}\n",
    "\t\\item Amplitude Modulation  \\cite{eronen2001automatic}. Analyzed frequency ranges are: Tremolo (4 - 8 Hz) and Grain (10 - 40 Hz). For each of these ranges, it computes:\n",
    "\t\\begin{itemize}\n",
    "\t\t\\item Frequency of maximum energy in range\n",
    "\t\t\\item Difference of the energy of this frequency and the mean energy over all frequencies\n",
    "\t\t\\item Difference of the energy of this frequency and the mean energy in range\n",
    "\t\t\\item Product of the two first values.\n",
    "\t\\end{itemize}\n",
    "\t\\item Autocorrelation coefficients $\\mathit{ac}$ on each frame.\n",
    "    $$ac(k)=\\sum_{i=0}^{N-k-1}x(i)x(i+k),$$    \n",
    "    where (here and below) $k$ is frame length in samples, $N$ is length of whole signal in samples and $x(i)$ is signal function.    \n",
    "    \\item Onset detection using a complex domain spectral flux method. \\cite{duxbury2003complex}.    \n",
    "    \\item Energy $\\mathit{en}$ as root mean square of an audio frame.\n",
    "    $$en=\\sqrt{\\dfrac{\\sum_{i=0}^{N-1}x(i)^2}{N}}$$    \n",
    "    \\item Envelope of an oscillating signal (smooth curve outlining its extremes).    \n",
    "    \\item Shape statistics (centroid, spread, skewness and kurtosis) of each frame’s Temporal Shape, Amplitude Envelope and Magnitude Spectrum.    \n",
    "    \\item Linear Predictor Coefficients (LPC) of a signal frame \\cite{makhoul1975linear}.    \n",
    "    \\item Line Spectral Frequency (LSF) coefficients of a signal frame \\cite{backstrom2006properties,schussler1976stability}.    \n",
    "    \\item Loudness coefficients \\cite{moore1997model}.    \n",
    "    \\item Mel-frequencies cepstrum coefficients and Mel-frequencies spectrum.    \n",
    "    \\item Magnitude spectrum.    \n",
    "    \\item Octave band signal intensity (OBSI) using a triangular octave filter bank and  OBSI ratio between consecutive octave.    \n",
    "    \\item Sharpness and Spread of Loudness coefficients \\cite{peeters2004large}.    \n",
    "    \\item Spectral crest factor per log-spaced band of 1/4 octave.    \n",
    "    \\item Spectral decrease, spectral flatness.    \n",
    "    \\item Spectral Flux.    \n",
    "    \\item Spectral roll-off (frequency so that 99\\% of the energy is contained below) \\cite{scheirer1997construction}.\n",
    "    \\item Spectral Slope (computed by linear regression of the spectral amplitude) \\cite{peeters2004large}.    \n",
    "    \\item Spectral Variation (normalized correlation of spectrum between consecutive frames) \\cite{peeters2004large}.    \n",
    "    \\item Zero-crossing rate (ZCR) for frame \\cite{scheirer1997construction}.\n",
    "\\end{itemize}"
   ]
  },
  {
   "cell_type": "code",
   "execution_count": 1,
   "metadata": {},
   "outputs": [],
   "source": [
    "import pandas as pd\n",
    "import numpy as np"
   ]
  },
  {
   "cell_type": "code",
   "execution_count": 2,
   "metadata": {},
   "outputs": [],
   "source": [
    "classes_of_interest = (\"Vehicle\", \"Channel, environment and background\", \"Natural sounds\")\n",
    "\n",
    "with open(\"ontology.json\", \"r\") as f:\n",
    "    contents = f.read()\n",
    "\n",
    "ontology = pd.read_json(contents)\n",
    "\n",
    "ontology = ontology[[\"id\", \"name\", \"child_ids\"]].set_index(\"id\")"
   ]
  },
  {
   "cell_type": "code",
   "execution_count": 3,
   "metadata": {},
   "outputs": [],
   "source": [
    "def extract_ids(cls, data):  # recursively add all child classes of input class to the list\n",
    "    out = [] \n",
    "    for id, row in data.iterrows():\n",
    "        if row[\"name\"] == cls:\n",
    "            out.append(id)\n",
    "            if len(row[\"child_ids\"]) > 0:\n",
    "                for child in row[\"child_ids\"]:\n",
    "                    out.append(extract_ids(data[\"name\"][child], data))\n",
    "                \n",
    "    return flattern(out)\n",
    "\n",
    "\n",
    "def flattern(A):  # list flattening helper function\n",
    "    rt = []\n",
    "    for i in A:\n",
    "        if isinstance(i,list): rt.extend(flattern(i))\n",
    "        else: rt.append(i)\n",
    "    return rt"
   ]
  },
  {
   "cell_type": "code",
   "execution_count": 4,
   "metadata": {},
   "outputs": [],
   "source": [
    "classes = {i:[] for i in classes_of_interest}\n",
    "for cls in classes_of_interest:\n",
    "    classes[cls] = extract_ids(cls, ontology)"
   ]
  },
  {
   "cell_type": "code",
   "execution_count": 5,
   "metadata": {},
   "outputs": [],
   "source": [
    "train_data = pd.read_csv(\"balanced_train_segments.csv\", skiprows=2, sep=\", \", engine=\"python\", index_col=\"# YTID\")\n",
    "train_data[\"positive_labels\"] = train_data[\"positive_labels\"].apply(lambda x: x.replace('\\\"','').split(\",\"))\n",
    "\n",
    "test_data = pd.read_csv(\"eval_segments.csv\", skiprows=2, sep=\", \", engine=\"python\", index_col=\"# YTID\")\n",
    "test_data[\"positive_labels\"] = test_data[\"positive_labels\"].apply(lambda x: x.replace('\\\"','').split(\",\"))"
   ]
  },
  {
   "cell_type": "code",
   "execution_count": 9,
   "metadata": {},
   "outputs": [
    {
     "data": {
      "text/html": [
       "<div>\n",
       "<style scoped>\n",
       "    .dataframe tbody tr th:only-of-type {\n",
       "        vertical-align: middle;\n",
       "    }\n",
       "\n",
       "    .dataframe tbody tr th {\n",
       "        vertical-align: top;\n",
       "    }\n",
       "\n",
       "    .dataframe thead th {\n",
       "        text-align: right;\n",
       "    }\n",
       "</style>\n",
       "<table border=\"1\" class=\"dataframe\">\n",
       "  <thead>\n",
       "    <tr style=\"text-align: right;\">\n",
       "      <th></th>\n",
       "      <th>start_seconds</th>\n",
       "      <th>end_seconds</th>\n",
       "      <th>positive_labels</th>\n",
       "    </tr>\n",
       "    <tr>\n",
       "      <th># YTID</th>\n",
       "      <th></th>\n",
       "      <th></th>\n",
       "      <th></th>\n",
       "    </tr>\n",
       "  </thead>\n",
       "  <tbody>\n",
       "    <tr>\n",
       "      <th>--PJHxphWEs</th>\n",
       "      <td>30.0</td>\n",
       "      <td>40.0</td>\n",
       "      <td>[/m/09x0r, /t/dd00088]</td>\n",
       "    </tr>\n",
       "    <tr>\n",
       "      <th>--ZhevVpy1s</th>\n",
       "      <td>50.0</td>\n",
       "      <td>60.0</td>\n",
       "      <td>[/m/012xff]</td>\n",
       "    </tr>\n",
       "    <tr>\n",
       "      <th>--aE2O5G5WE</th>\n",
       "      <td>0.0</td>\n",
       "      <td>10.0</td>\n",
       "      <td>[/m/03fwl, /m/04rlf, /m/09x0r]</td>\n",
       "    </tr>\n",
       "    <tr>\n",
       "      <th>--aO5cdqSAg</th>\n",
       "      <td>30.0</td>\n",
       "      <td>40.0</td>\n",
       "      <td>[/t/dd00003, /t/dd00005]</td>\n",
       "    </tr>\n",
       "    <tr>\n",
       "      <th>--aaILOrkII</th>\n",
       "      <td>200.0</td>\n",
       "      <td>210.0</td>\n",
       "      <td>[/m/032s66, /m/073cg4]</td>\n",
       "    </tr>\n",
       "  </tbody>\n",
       "</table>\n",
       "</div>"
      ],
      "text/plain": [
       "             start_seconds  end_seconds                 positive_labels\n",
       "# YTID                                                                 \n",
       "--PJHxphWEs           30.0         40.0          [/m/09x0r, /t/dd00088]\n",
       "--ZhevVpy1s           50.0         60.0                     [/m/012xff]\n",
       "--aE2O5G5WE            0.0         10.0  [/m/03fwl, /m/04rlf, /m/09x0r]\n",
       "--aO5cdqSAg           30.0         40.0        [/t/dd00003, /t/dd00005]\n",
       "--aaILOrkII          200.0        210.0          [/m/032s66, /m/073cg4]"
      ]
     },
     "execution_count": 9,
     "metadata": {},
     "output_type": "execute_result"
    }
   ],
   "source": [
    "train_data.head()"
   ]
  },
  {
   "cell_type": "code",
   "execution_count": 13,
   "metadata": {},
   "outputs": [
    {
     "data": {
      "text/plain": [
       "40.0"
      ]
     },
     "execution_count": 13,
     "metadata": {},
     "output_type": "execute_result"
    }
   ],
   "source": [
    "train_data.loc[\"--PJHxphWEs\"][\"end_seconds\"]"
   ]
  },
  {
   "cell_type": "code",
   "execution_count": 28,
   "metadata": {},
   "outputs": [
    {
     "name": "stdout",
     "output_type": "stream",
     "text": [
      "[youtube] -30H9V1IKps: Downloading webpage\n",
      "[youtube] -30H9V1IKps: Downloading video info webpage\n",
      "[youtube] -30H9V1IKps: Extracting video information\n",
      "[youtube] -30H9V1IKps: Downloading MPD manifest\n",
      "[download] Destination: Vehicle\\-30H9V1IKps.m4a\n",
      "[download] 100% of 241.23KiB in 00:00                          \n",
      "[ffmpeg] Correcting container in \"Vehicle\\-30H9V1IKps.m4a\"\n",
      "[ffmpeg] Destination: Vehicle\\-30H9V1IKps.wav\n",
      "Deleting original file Vehicle\\-30H9V1IKps.m4a (pass -k to keep)\n",
      "[youtube] -d6ytV5GfH4: Downloading webpage\n",
      "[youtube] -d6ytV5GfH4: Downloading video info webpage\n"
     ]
    },
    {
     "name": "stderr",
     "output_type": "stream",
     "text": [
      "ERROR: -d6ytV5GfH4: YouTube said: This video is no longer available because the YouTube account associated with this video has been terminated.\n"
     ]
    },
    {
     "name": "stdout",
     "output_type": "stream",
     "text": [
      "[youtube] -uBbPbRML3U: Downloading webpage\n",
      "[youtube] -uBbPbRML3U: Downloading video info webpage\n",
      "[youtube] -uBbPbRML3U: Extracting video information\n",
      "[youtube] -uBbPbRML3U: Downloading MPD manifest\n",
      "[download] Destination: Vehicle\\-uBbPbRML3U.webm\n",
      "[download] 100% of 4.96MiB in 00:00                          \n",
      "[ffmpeg] Destination: Vehicle\\-uBbPbRML3U.wav\n",
      "Deleting original file Vehicle\\-uBbPbRML3U.webm (pass -k to keep)\n",
      "[youtube] 0O9ZfRn69i8: Downloading webpage\n",
      "[youtube] 0O9ZfRn69i8: Downloading video info webpage\n",
      "[youtube] 0O9ZfRn69i8: Extracting video information\n",
      "[youtube] 0O9ZfRn69i8: Downloading MPD manifest\n",
      "[download] Destination: Vehicle\\0O9ZfRn69i8.m4a\n",
      "[download] 100% of 917.97KiB in 00:00                  \n",
      "[ffmpeg] Correcting container in \"Vehicle\\0O9ZfRn69i8.m4a\"\n",
      "[ffmpeg] Destination: Vehicle\\0O9ZfRn69i8.wav\n",
      "Deleting original file Vehicle\\0O9ZfRn69i8.m4a (pass -k to keep)\n",
      "[youtube] 0SRRe7FAJCI: Downloading webpage\n",
      "[youtube] 0SRRe7FAJCI: Downloading video info webpage\n",
      "[youtube] 0SRRe7FAJCI: Extracting video information\n",
      "[youtube] 0SRRe7FAJCI: Downloading MPD manifest\n",
      "[download] Destination: Vehicle\\0SRRe7FAJCI.webm\n",
      "[download] 100% of 8.49MiB in 00:01                          \n",
      "[ffmpeg] Destination: Vehicle\\0SRRe7FAJCI.wav\n",
      "Deleting original file Vehicle\\0SRRe7FAJCI.webm (pass -k to keep)\n",
      "[youtube] 0auuJJiE2xI: Downloading webpage\n",
      "[youtube] 0auuJJiE2xI: Downloading video info webpage\n",
      "[youtube] 0auuJJiE2xI: Extracting video information\n",
      "[youtube] 0auuJJiE2xI: Downloading MPD manifest\n",
      "[download] Resuming download at byte 13115600\n",
      "[download] Vehicle\\0auuJJiE2xI.webm has already been downloaded\n"
     ]
    },
    {
     "name": "stderr",
     "output_type": "stream",
     "text": [
      "ERROR: unable to rename file: [WinError 32] Процесс не может получить доступ к файлу, так как этот файл занят другим процессом: 'Vehicle\\\\0auuJJiE2xI.webm.part' -> 'Vehicle\\\\0auuJJiE2xI.webm'\n"
     ]
    },
    {
     "name": "stdout",
     "output_type": "stream",
     "text": [
      "\r",
      "[download] 100% of 12.51MiB\n"
     ]
    },
    {
     "name": "stderr",
     "output_type": "stream",
     "text": [
      "ERROR: WARNING: unable to obtain file audio codec with ffprobe\n"
     ]
    },
    {
     "name": "stdout",
     "output_type": "stream",
     "text": [
      "[youtube] 0bR-EsIOoz0: Downloading webpage\n",
      "[youtube] 0bR-EsIOoz0: Downloading video info webpage\n",
      "[youtube] 0bR-EsIOoz0: Extracting video information\n",
      "[youtube] 0bR-EsIOoz0: Downloading MPD manifest\n",
      "[download] Destination: Vehicle\\0bR-EsIOoz0.m4a\n",
      "[download] 100% of 366.94KiB in 00:00                          \n",
      "[ffmpeg] Correcting container in \"Vehicle\\0bR-EsIOoz0.m4a\"\n",
      "[ffmpeg] Destination: Vehicle\\0bR-EsIOoz0.wav\n",
      "Deleting original file Vehicle\\0bR-EsIOoz0.m4a (pass -k to keep)\n",
      "[youtube] 0fm0oU8FO0U: Downloading webpage\n",
      "[youtube] 0fm0oU8FO0U: Downloading video info webpage\n",
      "[youtube] 0fm0oU8FO0U: Extracting video information\n",
      "[youtube] 0fm0oU8FO0U: Downloading MPD manifest\n",
      "[download] Destination: Vehicle\\0fm0oU8FO0U.m4a\n",
      "[download] 100% of 1.30MiB in 00:00                  \n"
     ]
    },
    {
     "ename": "KeyboardInterrupt",
     "evalue": "",
     "output_type": "error",
     "traceback": [
      "\u001b[1;31m---------------------------------------------------------------------------\u001b[0m",
      "\u001b[1;31mKeyboardInterrupt\u001b[0m                         Traceback (most recent call last)",
      "\u001b[1;32m<ipython-input-28-8cfab60f4b17>\u001b[0m in \u001b[0;36m<module>\u001b[1;34m()\u001b[0m\n\u001b[0;32m     31\u001b[0m     \u001b[1;32mfor\u001b[0m \u001b[0mfile\u001b[0m \u001b[1;32min\u001b[0m \u001b[0mto_download\u001b[0m\u001b[1;33m[\u001b[0m\u001b[0mcls\u001b[0m\u001b[1;33m]\u001b[0m\u001b[1;33m:\u001b[0m\u001b[1;33m\u001b[0m\u001b[0m\n\u001b[0;32m     32\u001b[0m         \u001b[1;32mwith\u001b[0m \u001b[0myoutube_dl\u001b[0m\u001b[1;33m.\u001b[0m\u001b[0mYoutubeDL\u001b[0m\u001b[1;33m(\u001b[0m\u001b[0moptions\u001b[0m\u001b[1;33m)\u001b[0m \u001b[1;32mas\u001b[0m \u001b[0mydl\u001b[0m\u001b[1;33m:\u001b[0m\u001b[1;33m\u001b[0m\u001b[0m\n\u001b[1;32m---> 33\u001b[1;33m             \u001b[0mydl\u001b[0m\u001b[1;33m.\u001b[0m\u001b[0mdownload\u001b[0m\u001b[1;33m(\u001b[0m\u001b[1;33m[\u001b[0m\u001b[0mfile\u001b[0m\u001b[1;33m]\u001b[0m\u001b[1;33m)\u001b[0m\u001b[1;33m\u001b[0m\u001b[0m\n\u001b[0m\u001b[0;32m     34\u001b[0m             \u001b[0mfilename\u001b[0m \u001b[1;33m=\u001b[0m \u001b[0mos\u001b[0m\u001b[1;33m.\u001b[0m\u001b[0mpath\u001b[0m\u001b[1;33m.\u001b[0m\u001b[0mjoin\u001b[0m\u001b[1;33m(\u001b[0m\u001b[0mcls\u001b[0m\u001b[1;33m,\u001b[0m \u001b[0mfile\u001b[0m \u001b[1;33m+\u001b[0m \u001b[1;34m\".wav\"\u001b[0m\u001b[1;33m)\u001b[0m\u001b[1;33m\u001b[0m\u001b[0m\n\u001b[0;32m     35\u001b[0m             crop(train_data.loc[file][\"start_seconds\"],\n",
      "\u001b[1;32m~\\Anaconda3\\lib\\site-packages\\youtube_dl\\YoutubeDL.py\u001b[0m in \u001b[0;36mdownload\u001b[1;34m(self, url_list)\u001b[0m\n\u001b[0;32m   1984\u001b[0m                 \u001b[1;31m# It also downloads the videos\u001b[0m\u001b[1;33m\u001b[0m\u001b[1;33m\u001b[0m\u001b[0m\n\u001b[0;32m   1985\u001b[0m                 res = self.extract_info(\n\u001b[1;32m-> 1986\u001b[1;33m                     url, force_generic_extractor=self.params.get('force_generic_extractor', False))\n\u001b[0m\u001b[0;32m   1987\u001b[0m             \u001b[1;32mexcept\u001b[0m \u001b[0mUnavailableVideoError\u001b[0m\u001b[1;33m:\u001b[0m\u001b[1;33m\u001b[0m\u001b[0m\n\u001b[0;32m   1988\u001b[0m                 \u001b[0mself\u001b[0m\u001b[1;33m.\u001b[0m\u001b[0mreport_error\u001b[0m\u001b[1;33m(\u001b[0m\u001b[1;34m'unable to download video'\u001b[0m\u001b[1;33m)\u001b[0m\u001b[1;33m\u001b[0m\u001b[0m\n",
      "\u001b[1;32m~\\Anaconda3\\lib\\site-packages\\youtube_dl\\YoutubeDL.py\u001b[0m in \u001b[0;36mextract_info\u001b[1;34m(self, url, download, ie_key, extra_info, process, force_generic_extractor)\u001b[0m\n\u001b[0;32m    793\u001b[0m                 \u001b[0mself\u001b[0m\u001b[1;33m.\u001b[0m\u001b[0madd_default_extra_info\u001b[0m\u001b[1;33m(\u001b[0m\u001b[0mie_result\u001b[0m\u001b[1;33m,\u001b[0m \u001b[0mie\u001b[0m\u001b[1;33m,\u001b[0m \u001b[0murl\u001b[0m\u001b[1;33m)\u001b[0m\u001b[1;33m\u001b[0m\u001b[0m\n\u001b[0;32m    794\u001b[0m                 \u001b[1;32mif\u001b[0m \u001b[0mprocess\u001b[0m\u001b[1;33m:\u001b[0m\u001b[1;33m\u001b[0m\u001b[0m\n\u001b[1;32m--> 795\u001b[1;33m                     \u001b[1;32mreturn\u001b[0m \u001b[0mself\u001b[0m\u001b[1;33m.\u001b[0m\u001b[0mprocess_ie_result\u001b[0m\u001b[1;33m(\u001b[0m\u001b[0mie_result\u001b[0m\u001b[1;33m,\u001b[0m \u001b[0mdownload\u001b[0m\u001b[1;33m,\u001b[0m \u001b[0mextra_info\u001b[0m\u001b[1;33m)\u001b[0m\u001b[1;33m\u001b[0m\u001b[0m\n\u001b[0m\u001b[0;32m    796\u001b[0m                 \u001b[1;32melse\u001b[0m\u001b[1;33m:\u001b[0m\u001b[1;33m\u001b[0m\u001b[0m\n\u001b[0;32m    797\u001b[0m                     \u001b[1;32mreturn\u001b[0m \u001b[0mie_result\u001b[0m\u001b[1;33m\u001b[0m\u001b[0m\n",
      "\u001b[1;32m~\\Anaconda3\\lib\\site-packages\\youtube_dl\\YoutubeDL.py\u001b[0m in \u001b[0;36mprocess_ie_result\u001b[1;34m(self, ie_result, download, extra_info)\u001b[0m\n\u001b[0;32m    847\u001b[0m         \u001b[1;32mif\u001b[0m \u001b[0mresult_type\u001b[0m \u001b[1;33m==\u001b[0m \u001b[1;34m'video'\u001b[0m\u001b[1;33m:\u001b[0m\u001b[1;33m\u001b[0m\u001b[0m\n\u001b[0;32m    848\u001b[0m             \u001b[0mself\u001b[0m\u001b[1;33m.\u001b[0m\u001b[0madd_extra_info\u001b[0m\u001b[1;33m(\u001b[0m\u001b[0mie_result\u001b[0m\u001b[1;33m,\u001b[0m \u001b[0mextra_info\u001b[0m\u001b[1;33m)\u001b[0m\u001b[1;33m\u001b[0m\u001b[0m\n\u001b[1;32m--> 849\u001b[1;33m             \u001b[1;32mreturn\u001b[0m \u001b[0mself\u001b[0m\u001b[1;33m.\u001b[0m\u001b[0mprocess_video_result\u001b[0m\u001b[1;33m(\u001b[0m\u001b[0mie_result\u001b[0m\u001b[1;33m,\u001b[0m \u001b[0mdownload\u001b[0m\u001b[1;33m=\u001b[0m\u001b[0mdownload\u001b[0m\u001b[1;33m)\u001b[0m\u001b[1;33m\u001b[0m\u001b[0m\n\u001b[0m\u001b[0;32m    850\u001b[0m         \u001b[1;32melif\u001b[0m \u001b[0mresult_type\u001b[0m \u001b[1;33m==\u001b[0m \u001b[1;34m'url'\u001b[0m\u001b[1;33m:\u001b[0m\u001b[1;33m\u001b[0m\u001b[0m\n\u001b[0;32m    851\u001b[0m             \u001b[1;31m# We have to add extra_info to the results because it may be\u001b[0m\u001b[1;33m\u001b[0m\u001b[1;33m\u001b[0m\u001b[0m\n",
      "\u001b[1;32m~\\Anaconda3\\lib\\site-packages\\youtube_dl\\YoutubeDL.py\u001b[0m in \u001b[0;36mprocess_video_result\u001b[1;34m(self, info_dict, download)\u001b[0m\n\u001b[0;32m   1618\u001b[0m                 \u001b[0mnew_info\u001b[0m \u001b[1;33m=\u001b[0m \u001b[0mdict\u001b[0m\u001b[1;33m(\u001b[0m\u001b[0minfo_dict\u001b[0m\u001b[1;33m)\u001b[0m\u001b[1;33m\u001b[0m\u001b[0m\n\u001b[0;32m   1619\u001b[0m                 \u001b[0mnew_info\u001b[0m\u001b[1;33m.\u001b[0m\u001b[0mupdate\u001b[0m\u001b[1;33m(\u001b[0m\u001b[0mformat\u001b[0m\u001b[1;33m)\u001b[0m\u001b[1;33m\u001b[0m\u001b[0m\n\u001b[1;32m-> 1620\u001b[1;33m                 \u001b[0mself\u001b[0m\u001b[1;33m.\u001b[0m\u001b[0mprocess_info\u001b[0m\u001b[1;33m(\u001b[0m\u001b[0mnew_info\u001b[0m\u001b[1;33m)\u001b[0m\u001b[1;33m\u001b[0m\u001b[0m\n\u001b[0m\u001b[0;32m   1621\u001b[0m         \u001b[1;31m# We update the info dict with the best quality format (backwards compatibility)\u001b[0m\u001b[1;33m\u001b[0m\u001b[1;33m\u001b[0m\u001b[0m\n\u001b[0;32m   1622\u001b[0m         \u001b[0minfo_dict\u001b[0m\u001b[1;33m.\u001b[0m\u001b[0mupdate\u001b[0m\u001b[1;33m(\u001b[0m\u001b[0mformats_to_download\u001b[0m\u001b[1;33m[\u001b[0m\u001b[1;33m-\u001b[0m\u001b[1;36m1\u001b[0m\u001b[1;33m]\u001b[0m\u001b[1;33m)\u001b[0m\u001b[1;33m\u001b[0m\u001b[0m\n",
      "\u001b[1;32m~\\Anaconda3\\lib\\site-packages\\youtube_dl\\YoutubeDL.py\u001b[0m in \u001b[0;36mprocess_info\u001b[1;34m(self, info_dict)\u001b[0m\n\u001b[0;32m   1934\u001b[0m                             % info_dict['id'])\n\u001b[0;32m   1935\u001b[0m                     \u001b[1;32melif\u001b[0m \u001b[0mfixup_policy\u001b[0m \u001b[1;33m==\u001b[0m \u001b[1;34m'detect_or_warn'\u001b[0m\u001b[1;33m:\u001b[0m\u001b[1;33m\u001b[0m\u001b[0m\n\u001b[1;32m-> 1936\u001b[1;33m                         \u001b[0mfixup_pp\u001b[0m \u001b[1;33m=\u001b[0m \u001b[0mFFmpegFixupM4aPP\u001b[0m\u001b[1;33m(\u001b[0m\u001b[0mself\u001b[0m\u001b[1;33m)\u001b[0m\u001b[1;33m\u001b[0m\u001b[0m\n\u001b[0m\u001b[0;32m   1937\u001b[0m                         \u001b[1;32mif\u001b[0m \u001b[0mfixup_pp\u001b[0m\u001b[1;33m.\u001b[0m\u001b[0mavailable\u001b[0m\u001b[1;33m:\u001b[0m\u001b[1;33m\u001b[0m\u001b[0m\n\u001b[0;32m   1938\u001b[0m                             \u001b[0minfo_dict\u001b[0m\u001b[1;33m.\u001b[0m\u001b[0msetdefault\u001b[0m\u001b[1;33m(\u001b[0m\u001b[1;34m'__postprocessors'\u001b[0m\u001b[1;33m,\u001b[0m \u001b[1;33m[\u001b[0m\u001b[1;33m]\u001b[0m\u001b[1;33m)\u001b[0m\u001b[1;33m\u001b[0m\u001b[0m\n",
      "\u001b[1;32m~\\Anaconda3\\lib\\site-packages\\youtube_dl\\postprocessor\\ffmpeg.py\u001b[0m in \u001b[0;36m__init__\u001b[1;34m(self, downloader)\u001b[0m\n\u001b[0;32m     58\u001b[0m     \u001b[1;32mdef\u001b[0m \u001b[0m__init__\u001b[0m\u001b[1;33m(\u001b[0m\u001b[0mself\u001b[0m\u001b[1;33m,\u001b[0m \u001b[0mdownloader\u001b[0m\u001b[1;33m=\u001b[0m\u001b[1;32mNone\u001b[0m\u001b[1;33m)\u001b[0m\u001b[1;33m:\u001b[0m\u001b[1;33m\u001b[0m\u001b[0m\n\u001b[0;32m     59\u001b[0m         \u001b[0mPostProcessor\u001b[0m\u001b[1;33m.\u001b[0m\u001b[0m__init__\u001b[0m\u001b[1;33m(\u001b[0m\u001b[0mself\u001b[0m\u001b[1;33m,\u001b[0m \u001b[0mdownloader\u001b[0m\u001b[1;33m)\u001b[0m\u001b[1;33m\u001b[0m\u001b[0m\n\u001b[1;32m---> 60\u001b[1;33m         \u001b[0mself\u001b[0m\u001b[1;33m.\u001b[0m\u001b[0m_determine_executables\u001b[0m\u001b[1;33m(\u001b[0m\u001b[1;33m)\u001b[0m\u001b[1;33m\u001b[0m\u001b[0m\n\u001b[0m\u001b[0;32m     61\u001b[0m \u001b[1;33m\u001b[0m\u001b[0m\n\u001b[0;32m     62\u001b[0m     \u001b[1;32mdef\u001b[0m \u001b[0mcheck_version\u001b[0m\u001b[1;33m(\u001b[0m\u001b[0mself\u001b[0m\u001b[1;33m)\u001b[0m\u001b[1;33m:\u001b[0m\u001b[1;33m\u001b[0m\u001b[0m\n",
      "\u001b[1;32m~\\Anaconda3\\lib\\site-packages\\youtube_dl\\postprocessor\\ffmpeg.py\u001b[0m in \u001b[0;36m_determine_executables\u001b[1;34m(self)\u001b[0m\n\u001b[0;32m    115\u001b[0m         \u001b[1;32mif\u001b[0m \u001b[0mself\u001b[0m\u001b[1;33m.\u001b[0m\u001b[0m_versions\u001b[0m \u001b[1;32mis\u001b[0m \u001b[1;32mNone\u001b[0m\u001b[1;33m:\u001b[0m\u001b[1;33m\u001b[0m\u001b[0m\n\u001b[0;32m    116\u001b[0m             self._versions = dict(\n\u001b[1;32m--> 117\u001b[1;33m                 (p, get_exe_version(p, args=['-version'])) for p in programs)\n\u001b[0m\u001b[0;32m    118\u001b[0m             \u001b[0mself\u001b[0m\u001b[1;33m.\u001b[0m\u001b[0m_paths\u001b[0m \u001b[1;33m=\u001b[0m \u001b[0mdict\u001b[0m\u001b[1;33m(\u001b[0m\u001b[1;33m(\u001b[0m\u001b[0mp\u001b[0m\u001b[1;33m,\u001b[0m \u001b[0mp\u001b[0m\u001b[1;33m)\u001b[0m \u001b[1;32mfor\u001b[0m \u001b[0mp\u001b[0m \u001b[1;32min\u001b[0m \u001b[0mprograms\u001b[0m\u001b[1;33m)\u001b[0m\u001b[1;33m\u001b[0m\u001b[0m\n\u001b[0;32m    119\u001b[0m \u001b[1;33m\u001b[0m\u001b[0m\n",
      "\u001b[1;32m~\\Anaconda3\\lib\\site-packages\\youtube_dl\\postprocessor\\ffmpeg.py\u001b[0m in \u001b[0;36m<genexpr>\u001b[1;34m(.0)\u001b[0m\n\u001b[0;32m    115\u001b[0m         \u001b[1;32mif\u001b[0m \u001b[0mself\u001b[0m\u001b[1;33m.\u001b[0m\u001b[0m_versions\u001b[0m \u001b[1;32mis\u001b[0m \u001b[1;32mNone\u001b[0m\u001b[1;33m:\u001b[0m\u001b[1;33m\u001b[0m\u001b[0m\n\u001b[0;32m    116\u001b[0m             self._versions = dict(\n\u001b[1;32m--> 117\u001b[1;33m                 (p, get_exe_version(p, args=['-version'])) for p in programs)\n\u001b[0m\u001b[0;32m    118\u001b[0m             \u001b[0mself\u001b[0m\u001b[1;33m.\u001b[0m\u001b[0m_paths\u001b[0m \u001b[1;33m=\u001b[0m \u001b[0mdict\u001b[0m\u001b[1;33m(\u001b[0m\u001b[1;33m(\u001b[0m\u001b[0mp\u001b[0m\u001b[1;33m,\u001b[0m \u001b[0mp\u001b[0m\u001b[1;33m)\u001b[0m \u001b[1;32mfor\u001b[0m \u001b[0mp\u001b[0m \u001b[1;32min\u001b[0m \u001b[0mprograms\u001b[0m\u001b[1;33m)\u001b[0m\u001b[1;33m\u001b[0m\u001b[0m\n\u001b[0;32m    119\u001b[0m \u001b[1;33m\u001b[0m\u001b[0m\n",
      "\u001b[1;32m~\\Anaconda3\\lib\\site-packages\\youtube_dl\\utils.py\u001b[0m in \u001b[0;36mget_exe_version\u001b[1;34m(exe, args, version_re, unrecognized)\u001b[0m\n\u001b[0;32m   1918\u001b[0m             \u001b[1;33m[\u001b[0m\u001b[0mencodeArgument\u001b[0m\u001b[1;33m(\u001b[0m\u001b[0mexe\u001b[0m\u001b[1;33m)\u001b[0m\u001b[1;33m]\u001b[0m \u001b[1;33m+\u001b[0m \u001b[0margs\u001b[0m\u001b[1;33m,\u001b[0m\u001b[1;33m\u001b[0m\u001b[0m\n\u001b[0;32m   1919\u001b[0m             \u001b[0mstdin\u001b[0m\u001b[1;33m=\u001b[0m\u001b[0msubprocess\u001b[0m\u001b[1;33m.\u001b[0m\u001b[0mPIPE\u001b[0m\u001b[1;33m,\u001b[0m\u001b[1;33m\u001b[0m\u001b[0m\n\u001b[1;32m-> 1920\u001b[1;33m             stdout=subprocess.PIPE, stderr=subprocess.STDOUT).communicate()\n\u001b[0m\u001b[0;32m   1921\u001b[0m     \u001b[1;32mexcept\u001b[0m \u001b[0mOSError\u001b[0m\u001b[1;33m:\u001b[0m\u001b[1;33m\u001b[0m\u001b[0m\n\u001b[0;32m   1922\u001b[0m         \u001b[1;32mreturn\u001b[0m \u001b[1;32mFalse\u001b[0m\u001b[1;33m\u001b[0m\u001b[0m\n",
      "\u001b[1;32m~\\Anaconda3\\lib\\subprocess.py\u001b[0m in \u001b[0;36mcommunicate\u001b[1;34m(self, input, timeout)\u001b[0m\n\u001b[0;32m    841\u001b[0m \u001b[1;33m\u001b[0m\u001b[0m\n\u001b[0;32m    842\u001b[0m             \u001b[1;32mtry\u001b[0m\u001b[1;33m:\u001b[0m\u001b[1;33m\u001b[0m\u001b[0m\n\u001b[1;32m--> 843\u001b[1;33m                 \u001b[0mstdout\u001b[0m\u001b[1;33m,\u001b[0m \u001b[0mstderr\u001b[0m \u001b[1;33m=\u001b[0m \u001b[0mself\u001b[0m\u001b[1;33m.\u001b[0m\u001b[0m_communicate\u001b[0m\u001b[1;33m(\u001b[0m\u001b[0minput\u001b[0m\u001b[1;33m,\u001b[0m \u001b[0mendtime\u001b[0m\u001b[1;33m,\u001b[0m \u001b[0mtimeout\u001b[0m\u001b[1;33m)\u001b[0m\u001b[1;33m\u001b[0m\u001b[0m\n\u001b[0m\u001b[0;32m    844\u001b[0m             \u001b[1;32mfinally\u001b[0m\u001b[1;33m:\u001b[0m\u001b[1;33m\u001b[0m\u001b[0m\n\u001b[0;32m    845\u001b[0m                 \u001b[0mself\u001b[0m\u001b[1;33m.\u001b[0m\u001b[0m_communication_started\u001b[0m \u001b[1;33m=\u001b[0m \u001b[1;32mTrue\u001b[0m\u001b[1;33m\u001b[0m\u001b[0m\n",
      "\u001b[1;32m~\\Anaconda3\\lib\\subprocess.py\u001b[0m in \u001b[0;36m_communicate\u001b[1;34m(self, input, endtime, orig_timeout)\u001b[0m\n\u001b[0;32m   1090\u001b[0m             \u001b[1;31m# calls communicate again.\u001b[0m\u001b[1;33m\u001b[0m\u001b[1;33m\u001b[0m\u001b[0m\n\u001b[0;32m   1091\u001b[0m             \u001b[1;32mif\u001b[0m \u001b[0mself\u001b[0m\u001b[1;33m.\u001b[0m\u001b[0mstdout\u001b[0m \u001b[1;32mis\u001b[0m \u001b[1;32mnot\u001b[0m \u001b[1;32mNone\u001b[0m\u001b[1;33m:\u001b[0m\u001b[1;33m\u001b[0m\u001b[0m\n\u001b[1;32m-> 1092\u001b[1;33m                 \u001b[0mself\u001b[0m\u001b[1;33m.\u001b[0m\u001b[0mstdout_thread\u001b[0m\u001b[1;33m.\u001b[0m\u001b[0mjoin\u001b[0m\u001b[1;33m(\u001b[0m\u001b[0mself\u001b[0m\u001b[1;33m.\u001b[0m\u001b[0m_remaining_time\u001b[0m\u001b[1;33m(\u001b[0m\u001b[0mendtime\u001b[0m\u001b[1;33m)\u001b[0m\u001b[1;33m)\u001b[0m\u001b[1;33m\u001b[0m\u001b[0m\n\u001b[0m\u001b[0;32m   1093\u001b[0m                 \u001b[1;32mif\u001b[0m \u001b[0mself\u001b[0m\u001b[1;33m.\u001b[0m\u001b[0mstdout_thread\u001b[0m\u001b[1;33m.\u001b[0m\u001b[0mis_alive\u001b[0m\u001b[1;33m(\u001b[0m\u001b[1;33m)\u001b[0m\u001b[1;33m:\u001b[0m\u001b[1;33m\u001b[0m\u001b[0m\n\u001b[0;32m   1094\u001b[0m                     \u001b[1;32mraise\u001b[0m \u001b[0mTimeoutExpired\u001b[0m\u001b[1;33m(\u001b[0m\u001b[0mself\u001b[0m\u001b[1;33m.\u001b[0m\u001b[0margs\u001b[0m\u001b[1;33m,\u001b[0m \u001b[0morig_timeout\u001b[0m\u001b[1;33m)\u001b[0m\u001b[1;33m\u001b[0m\u001b[0m\n",
      "\u001b[1;32m~\\Anaconda3\\lib\\threading.py\u001b[0m in \u001b[0;36mjoin\u001b[1;34m(self, timeout)\u001b[0m\n\u001b[0;32m   1054\u001b[0m \u001b[1;33m\u001b[0m\u001b[0m\n\u001b[0;32m   1055\u001b[0m         \u001b[1;32mif\u001b[0m \u001b[0mtimeout\u001b[0m \u001b[1;32mis\u001b[0m \u001b[1;32mNone\u001b[0m\u001b[1;33m:\u001b[0m\u001b[1;33m\u001b[0m\u001b[0m\n\u001b[1;32m-> 1056\u001b[1;33m             \u001b[0mself\u001b[0m\u001b[1;33m.\u001b[0m\u001b[0m_wait_for_tstate_lock\u001b[0m\u001b[1;33m(\u001b[0m\u001b[1;33m)\u001b[0m\u001b[1;33m\u001b[0m\u001b[0m\n\u001b[0m\u001b[0;32m   1057\u001b[0m         \u001b[1;32melse\u001b[0m\u001b[1;33m:\u001b[0m\u001b[1;33m\u001b[0m\u001b[0m\n\u001b[0;32m   1058\u001b[0m             \u001b[1;31m# the behavior of a negative timeout isn't documented, but\u001b[0m\u001b[1;33m\u001b[0m\u001b[1;33m\u001b[0m\u001b[0m\n",
      "\u001b[1;32m~\\Anaconda3\\lib\\threading.py\u001b[0m in \u001b[0;36m_wait_for_tstate_lock\u001b[1;34m(self, block, timeout)\u001b[0m\n\u001b[0;32m   1070\u001b[0m         \u001b[1;32mif\u001b[0m \u001b[0mlock\u001b[0m \u001b[1;32mis\u001b[0m \u001b[1;32mNone\u001b[0m\u001b[1;33m:\u001b[0m  \u001b[1;31m# already determined that the C code is done\u001b[0m\u001b[1;33m\u001b[0m\u001b[0m\n\u001b[0;32m   1071\u001b[0m             \u001b[1;32massert\u001b[0m \u001b[0mself\u001b[0m\u001b[1;33m.\u001b[0m\u001b[0m_is_stopped\u001b[0m\u001b[1;33m\u001b[0m\u001b[0m\n\u001b[1;32m-> 1072\u001b[1;33m         \u001b[1;32melif\u001b[0m \u001b[0mlock\u001b[0m\u001b[1;33m.\u001b[0m\u001b[0macquire\u001b[0m\u001b[1;33m(\u001b[0m\u001b[0mblock\u001b[0m\u001b[1;33m,\u001b[0m \u001b[0mtimeout\u001b[0m\u001b[1;33m)\u001b[0m\u001b[1;33m:\u001b[0m\u001b[1;33m\u001b[0m\u001b[0m\n\u001b[0m\u001b[0;32m   1073\u001b[0m             \u001b[0mlock\u001b[0m\u001b[1;33m.\u001b[0m\u001b[0mrelease\u001b[0m\u001b[1;33m(\u001b[0m\u001b[1;33m)\u001b[0m\u001b[1;33m\u001b[0m\u001b[0m\n\u001b[0;32m   1074\u001b[0m             \u001b[0mself\u001b[0m\u001b[1;33m.\u001b[0m\u001b[0m_stop\u001b[0m\u001b[1;33m(\u001b[0m\u001b[1;33m)\u001b[0m\u001b[1;33m\u001b[0m\u001b[0m\n",
      "\u001b[1;31mKeyboardInterrupt\u001b[0m: "
     ]
    }
   ],
   "source": [
    "import youtube_dl\n",
    "import os\n",
    "\n",
    "def crop(start, length, filename):\n",
    "    command = \"ffmpeg -y -i \" + filename + \\\n",
    "    \" -ss  \" + str(start) + \" -t \" + str(length) + \\\n",
    "    \" -ac 1 -acodec copy \" + filename.split(\".\")[0] + \"_.wav\"\n",
    "    os.system(command)\n",
    "\n",
    "to_download = {i:[] for i in classes_of_interest}\n",
    "    \n",
    "for cls in classes_of_interest:\n",
    "    for id in classes[cls]:\n",
    "        for row in train_data.itertuples(): \n",
    "            if row[3][0] == id:\n",
    "                to_download[cls].append(row[0])\n",
    "                \n",
    "\n",
    "options = {\n",
    "    'format': 'bestaudio/best',\n",
    "    'postprocessors': [{\n",
    "        'key': 'FFmpegExtractAudio',\n",
    "        'preferredcodec': 'wav'\n",
    "    }],\n",
    "    'extractaudio' : True,\n",
    "    'ignoreerrors' : True,\n",
    "    'audioformat' : \"wav\",    # name the file the ID of the video\n",
    "    'noplaylist' : True,    # only download single clip, not playlist\n",
    "}\n",
    "                \n",
    "for cls in to_download:\n",
    "    options['outtmpl'] = os.path.join(cls, '%(id)s.%(ext)s')\n",
    "    for file in to_download[cls]:\n",
    "        with youtube_dl.YoutubeDL(options) as ydl:\n",
    "            ydl.download([file])\n",
    "            filename = os.path.join(cls, file + \".wav\")\n",
    "            crop(train_data.loc[file][\"start_seconds\"],\n",
    "                 10, filename)\n",
    "            try:\n",
    "                os.remove(filename)\n",
    "            except OSError:\n",
    "                pass\n"
   ]
  },
  {
   "cell_type": "code",
   "execution_count": null,
   "metadata": {},
   "outputs": [],
   "source": []
  }
 ],
 "metadata": {
  "kernelspec": {
   "display_name": "Python 3",
   "language": "python",
   "name": "python3"
  },
  "language_info": {
   "codemirror_mode": {
    "name": "ipython",
    "version": 3
   },
   "file_extension": ".py",
   "mimetype": "text/x-python",
   "name": "python",
   "nbconvert_exporter": "python",
   "pygments_lexer": "ipython3",
   "version": "3.6.3"
  }
 },
 "nbformat": 4,
 "nbformat_minor": 2
}
